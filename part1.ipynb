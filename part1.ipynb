{
 "cells": [
  {
   "cell_type": "markdown",
   "metadata": {},
   "source": [
    "__Final Project Part 1 - Proposal__"
   ]
  },
  {
   "cell_type": "markdown",
   "metadata": {},
   "source": [
    "For my final project, I will be using a dataset of online subscription transactions and users online activities data from 2014 to 2019."
   ]
  },
  {
   "cell_type": "markdown",
   "metadata": {},
   "source": [
    "**Hypothesis, Assumptions, and Goals**"
   ]
  },
  {
   "cell_type": "markdown",
   "metadata": {},
   "source": [
    "I'm working at a subscription-based video hosting company. I want to use these dataset to better predict the number of daily subscriptions based on historical transaction data (seasonality), and user's online behavior data(e.g. registration, upload, features adoption etc.)\n",
    "\n",
    "This model and study can help our company to better predict the number of subscription per day. And with the prediction, we can decide when to launch certain marketing campaigns in order to promote more sales; and also better estimate the sales impact if something went wrong in the upper stream (e.g. reg process, upload process) and how to remediate. My assumption is that seasonality(this weekday last year), pacing of the previous month, and number of registration and number of uploaders are going to have impact on the target value. Also, understanding how each feature might perform differently in different region.  "
   ]
  },
  {
   "cell_type": "markdown",
   "metadata": {},
   "source": [
    "**Risk and Limitation**"
   ]
  },
  {
   "cell_type": "markdown",
   "metadata": {},
   "source": [
    "The main limitation of using this dataset is that we have been adding new product tiers in the past years, which may have impact on the model. One way to avoid this is maybe conduct the model at product level.The Dataset"
   ]
  },
  {
   "cell_type": "markdown",
   "metadata": {},
   "source": [
    "**The Dataset**"
   ]
  },
  {
   "cell_type": "markdown",
   "metadata": {},
   "source": [
    "As shown below, this dataset includes transaction data for the past 5 years -- timestamp of the purchase, country of the perchase, transaction type, etc. \n",
    "Aand online behavior at individual level -- Registration timestamp, upload events, time since reg, time since upload etc."
   ]
  },
  {
   "cell_type": "markdown",
   "metadata": {},
   "source": [
    "**Note**"
   ]
  },
  {
   "cell_type": "markdown",
   "metadata": {},
   "source": [
    "I greyed out some sensitive data in the data sheet, also each file only contains 5000 rows of data given the file is too big"
   ]
  }
 ],
 "metadata": {
  "kernelspec": {
   "display_name": "Python 3",
   "language": "python",
   "name": "python3"
  },
  "language_info": {
   "codemirror_mode": {
    "name": "ipython",
    "version": 3
   },
   "file_extension": ".py",
   "mimetype": "text/x-python",
   "name": "python",
   "nbconvert_exporter": "python",
   "pygments_lexer": "ipython3",
   "version": "3.6.8"
  }
 },
 "nbformat": 4,
 "nbformat_minor": 2
}
